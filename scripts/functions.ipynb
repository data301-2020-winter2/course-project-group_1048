{
 "cells": [
  {
   "cell_type": "code",
   "execution_count": null,
   "id": "ranging-universal",
   "metadata": {},
   "outputs": [],
   "source": [
    "import pandas as pd"
   ]
  },
  {
   "cell_type": "code",
   "execution_count": null,
   "id": "abandoned-arctic",
   "metadata": {},
   "outputs": [],
   "source": [
    "import numpy as np"
   ]
  },
  {
   "cell_type": "code",
   "execution_count": null,
   "id": "efficient-employment",
   "metadata": {},
   "outputs": [],
   "source": [
    "df = pd.read_csv('./../data/raw/listings.csv')"
   ]
  },
  {
   "cell_type": "markdown",
   "id": "alleged-vault",
   "metadata": {},
   "source": [
    "df = (\n",
    "#adding new column \n",
    "      pd.DataFrame(data.data,columns=data.feature_names)\n",
    "      .insert('kitchen_available') = kitchen_available\n",
    "      #renaming the existing column\n",
    "      .rename(columns={\"review_per_month\":\"monthly_per_month\"})\n",
    "      .sort_values(\"price\", ascending=True)\n",
    "      )\n",
    "  df"
   ]
  },
  {
   "cell_type": "code",
   "execution_count": null,
   "id": "postal-madness",
   "metadata": {},
   "outputs": [],
   "source": [
    "def load_and_process(\"./../data/raw/listings.csv\"):\n",
    "# method chain 1 \n",
    "df1 = (\n",
    "     pd.read_csv(\"./../data/raw/listings.csv\")\n",
    "     .dropna(axis=0,how='any',inplace=True)\n",
    " df2 =\n",
    "       df1\n",
    "       .assign(revised_price = lamba x: df['Price'] + df['Price']/10)\n",
    "       )\n",
    "return df2 \n"
   ]
  },
  {
   "cell_type": "code",
   "execution_count": null,
   "id": "impossible-tobago",
   "metadata": {},
   "outputs": [],
   "source": []
  }
 ],
 "metadata": {
  "kernelspec": {
   "display_name": "",
   "name": ""
  },
  "language_info": {
   "name": ""
  }
 },
 "nbformat": 4,
 "nbformat_minor": 5
}
