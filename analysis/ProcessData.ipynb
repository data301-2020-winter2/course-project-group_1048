{
 "cells": [
  {
   "cell_type": "code",
   "execution_count": 5,
   "metadata": {},
   "outputs": [
    {
     "name": "stderr",
     "output_type": "stream",
     "text": [
      "<ipython-input-5-b38b84810e87>:4: FutureWarning: The default value of regex will change from True to False in a future version. In addition, single character regular expressions will*not* be treated as literal strings when regex=True.\n",
      "  features['price'] = features['price'].str.replace('$', '').str.replace(',', '').astype('float64')\n",
      "<ipython-input-5-b38b84810e87>:4: SettingWithCopyWarning: \n",
      "A value is trying to be set on a copy of a slice from a DataFrame.\n",
      "Try using .loc[row_indexer,col_indexer] = value instead\n",
      "\n",
      "See the caveats in the documentation: https://pandas.pydata.org/pandas-docs/stable/user_guide/indexing.html#returning-a-view-versus-a-copy\n",
      "  features['price'] = features['price'].str.replace('$', '').str.replace(',', '').astype('float64')\n"
     ]
    }
   ],
   "source": [
    "import pandas as pd\n",
    "dataset = pd.read_csv(\"./../data/raw/listings.csv\")\n",
    "features = dataset[['review_scores_rating', 'price', 'property_type', 'neighbourhood_cleansed', 'host_is_superhost', 'availability_30', 'availability_60', 'availability_90', 'instant_bookable', 'calculated_host_listings_count', 'reviews_per_month']]\n",
    "features['price'] = features['price'].str.replace('$', '').str.replace(',', '').astype('float64')\n",
    "features = features.dropna()\n",
    "features.to_csv(\"./../data/processed/listings.csv\", index=False)"
   ]
  },
  {
   "cell_type": "code",
   "execution_count": null,
   "metadata": {},
   "outputs": [],
   "source": []
  }
 ],
 "metadata": {
  "kernelspec": {
   "display_name": "Python 3",
   "language": "python",
   "name": "python3"
  },
  "language_info": {
   "codemirror_mode": {
    "name": "ipython",
    "version": 3
   },
   "file_extension": ".py",
   "mimetype": "text/x-python",
   "name": "python",
   "nbconvert_exporter": "python",
   "pygments_lexer": "ipython3",
   "version": "3.8.5"
  }
 },
 "nbformat": 4,
 "nbformat_minor": 4
}
