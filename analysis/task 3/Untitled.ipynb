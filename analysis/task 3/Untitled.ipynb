{
 "cells": [
  {
   "cell_type": "code",
   "execution_count": null,
   "id": "declared-liquid",
   "metadata": {},
   "outputs": [],
   "source": [
    "import pandas as pd"
   ]
  },
  {
   "cell_type": "code",
   "execution_count": null,
   "id": "arranged-westminster",
   "metadata": {},
   "outputs": [],
   "source": [
    "import numpy as np"
   ]
  },
  {
   "cell_type": "code",
   "execution_count": null,
   "id": "fabulous-appendix",
   "metadata": {},
   "outputs": [],
   "source": [
    "df = pd.read_csv('./../data/raw/listings.csv')"
   ]
  },
  {
   "cell_type": "code",
   "execution_count": null,
   "id": "oriental-drain",
   "metadata": {},
   "outputs": [],
   "source": [
    "df = (\n",
    "#adding new column \n",
    "      pd.DataFrame(data.data,columns=data.feature_names)\n",
    "      .insert('kitchen_available') = kitchen_available\n",
    "      #renaming the existing column\n",
    "      .rename(columns={\"review_per_month\":\"monthly_per_month\"})\n",
    "      .sort_values(\"price\", ascending=True)\n",
    "      )\n",
    "  df"
   ]
  },
  {
   "cell_type": "code",
   "execution_count": null,
   "id": "cloudy-sword",
   "metadata": {},
   "outputs": [],
   "source": [
    "def load_and_process(\"./../data/raw/listings.csv\"):\n",
    "# method chain 1 \n",
    "df1 = (\n",
    "     pd.read_csv(\"./../data/raw/listings.csv\")\n",
    "     .dropna(axis=0,how='any',inplace=True)\n",
    " df2 =\n",
    "       df1\n",
    "       .assign(revised_price = lamba x: df['Price'] + df['Price']/10)\n",
    "       )\n",
    "return df2 \n"
   ]
  }
 ],
 "metadata": {
  "kernelspec": {
   "display_name": "",
   "name": ""
  },
  "language_info": {
   "name": ""
  }
 },
 "nbformat": 4,
 "nbformat_minor": 5
}
