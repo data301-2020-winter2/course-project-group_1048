{
 "cells": [
  {
   "cell_type": "markdown",
   "id": "complimentary-flight",
   "metadata": {},
   "source": [
    "## Milestone 2 Task 1\n",
    "**This is my analysis**\n",
    "*I now know how to use markdown*\n",
    "- I know how to write in **bold**\n",
    "- I know how to make an unodered list\n",
    "1. I also know how to make an orderd list\n"
   ]
  }
 ],
 "metadata": {
  "kernelspec": {
   "display_name": "Python 3",
   "language": "python",
   "name": "python3"
  },
  "language_info": {
   "codemirror_mode": {
    "name": "ipython",
    "version": 3
   },
   "file_extension": ".py",
   "mimetype": "text/x-python",
   "name": "python",
   "nbconvert_exporter": "python",
   "pygments_lexer": "ipython3",
   "version": "3.8.3"
  }
 },
 "nbformat": 4,
 "nbformat_minor": 5
}
